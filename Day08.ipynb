{
 "cells": [
  {
   "cell_type": "code",
   "execution_count": 1,
   "metadata": {
    "collapsed": true,
    "ExecuteTime": {
     "end_time": "2023-12-10T04:06:33.788426700Z",
     "start_time": "2023-12-10T04:06:24.636043300Z"
    }
   },
   "outputs": [
    {
     "data": {
      "text/plain": "18827"
     },
     "execution_count": 1,
     "metadata": {},
     "output_type": "execute_result"
    }
   ],
   "source": [
    "import kotlin.io.path.Path\n",
    "import kotlin.io.path.readLines\n",
    "\n",
    "data class Node(val id: String, val left: String, val right: String) {\n",
    "    fun nextNodeId(direction: Char) = if (direction == 'L') left else right\n",
    "}\n",
    "val input = Path(\"src/Day08.txt\").readLines()\n",
    "    val directions = input.first()\n",
    "    val nodes = input.drop(2).map {\n",
    "        Node(\n",
    "            id = it.take(3),\n",
    "            left = it.substringAfter('(').take(3),\n",
    "            right = it.substringAfter(',').trim().take(3)\n",
    "        )\n",
    "    }.associateBy { it.id }\n",
    "    sequence {\n",
    "        var currentNode = nodes[\"AAA\"]!!\n",
    "        var nextDirection = 0\n",
    "        while (currentNode.id != \"ZZZ\") {\n",
    "            currentNode = nodes[currentNode.nextNodeId(directions[nextDirection++])]!!\n",
    "            yield(currentNode)\n",
    "            if (nextDirection == directions.length) nextDirection = 0\n",
    "        }\n",
    "    }.count()"
   ]
  },
  {
   "cell_type": "code",
   "execution_count": 2,
   "outputs": [
    {
     "data": {
      "text/plain": "{KLA=Node(id=KLA, left=XKM, right=DNG), AAA=Node(id=AAA, left=XMG, right=HJX), NDA=Node(id=NDA, left=PBF, right=FHP), LBA=Node(id=LBA, left=CKP, right=QMH), NNA=Node(id=NNA, left=HRP, right=CQP), QVA=Node(id=QVA, left=VRM, right=NFN)}"
     },
     "execution_count": 2,
     "metadata": {},
     "output_type": "execute_result"
    }
   ],
   "source": [
    "nodes.filter { it.key.endsWith(\"A\") }"
   ],
   "metadata": {
    "collapsed": false,
    "ExecuteTime": {
     "end_time": "2023-12-10T04:08:16.812428300Z",
     "start_time": "2023-12-10T04:08:16.389414Z"
    }
   }
  },
  {
   "cell_type": "code",
   "execution_count": null,
   "outputs": [],
   "source": [
    "\n",
    "for (node in nodes.values.filter { it.id.endsWith('A') }) {\n",
    "    println(\"starting from ${node.id}\")\n",
    "    var currentNode = node\n",
    "    var nextDirection = 0\n",
    "    var zCount = 0\n",
    "    var stepCount = 0\n",
    "    var stepsBetweenCount = 0\n",
    "    while (zCount < 3) {\n",
    "        currentNode = nodes[currentNode.nextNodeId(directions[nextDirection])]!!\n",
    "        stepCount++\n",
    "        stepsBetweenCount++\n",
    "        if(currentNode.id.endsWith('Z')){\n",
    "            zCount++\n",
    "            println(\"encountered ${currentNode.id} after $stepCount steps. last executed direction $nextDirection. $stepsBetweenCount steps since last z\")\n",
    "            stepsBetweenCount = 0\n",
    "        }\n",
    "        nextDirection++\n",
    "        if (nextDirection == directions.length) nextDirection = 0\n",
    "    }\n",
    "    \n",
    "}"
   ],
   "metadata": {
    "collapsed": false
   }
  },
  {
   "cell_type": "markdown",
   "source": [],
   "metadata": {
    "collapsed": false
   }
  },
  {
   "cell_type": "code",
   "execution_count": 6,
   "outputs": [
    {
     "data": {
      "text/plain": "281"
     },
     "execution_count": 6,
     "metadata": {},
     "output_type": "execute_result"
    }
   ],
   "source": [
    "directions.length"
   ],
   "metadata": {
    "collapsed": false,
    "ExecuteTime": {
     "end_time": "2023-12-10T04:23:53.995802Z",
     "start_time": "2023-12-10T04:23:53.868905900Z"
    }
   }
  },
  {
   "cell_type": "code",
   "execution_count": 16,
   "outputs": [
    {
     "data": {
      "text/plain": "[17141, 18827, 20513, 12083, 22199, 19951]"
     },
     "execution_count": 16,
     "metadata": {},
     "output_type": "execute_result"
    }
   ],
   "source": [
    "val longs = nodes.values.filter { it.id.endsWith('A')}.map{\n",
    "    sequence {\n",
    "        var nextDirection = 0\n",
    "        var currentNode = it\n",
    "        while (!currentNode.id.endsWith('Z')) {\n",
    "            currentNode = nodes[currentNode.nextNodeId(directions[nextDirection++])]!!\n",
    "            yield(currentNode)\n",
    "            if (nextDirection == directions.length) nextDirection = 0\n",
    "        }\n",
    "    }.count().toLong()\n",
    "}\n",
    "longs"
   ],
   "metadata": {
    "collapsed": false,
    "ExecuteTime": {
     "end_time": "2023-12-10T04:34:42.006065600Z",
     "start_time": "2023-12-10T04:34:41.335019200Z"
    }
   }
  },
  {
   "cell_type": "code",
   "execution_count": 18,
   "outputs": [
    {
     "data": {
      "text/plain": "20220305520997"
     },
     "execution_count": 18,
     "metadata": {},
     "output_type": "execute_result"
    }
   ],
   "source": [
    "fun findLCM(a: Long, b: Long): Long {\n",
    "    val larger = if (a > b) a else b\n",
    "    val maxLcm = a * b\n",
    "    var lcm = larger\n",
    "    while (lcm <= maxLcm) {\n",
    "        if (lcm % a == 0L && lcm % b == 0L) {\n",
    "            return lcm\n",
    "        }\n",
    "        lcm += larger\n",
    "    }\n",
    "    return maxLcm\n",
    "}\n",
    "\n",
    "longs.reduce(::findLCM)"
   ],
   "metadata": {
    "collapsed": false,
    "ExecuteTime": {
     "end_time": "2023-12-10T04:35:06.376308600Z",
     "start_time": "2023-12-10T04:35:06.017630500Z"
    }
   }
  },
  {
   "cell_type": "code",
   "execution_count": null,
   "outputs": [],
   "source": [],
   "metadata": {
    "collapsed": false
   }
  }
 ],
 "metadata": {
  "kernelspec": {
   "display_name": "Kotlin",
   "language": "kotlin",
   "name": "kotlin"
  },
  "language_info": {
   "name": "kotlin",
   "version": "1.9.0",
   "mimetype": "text/x-kotlin",
   "file_extension": ".kt",
   "pygments_lexer": "kotlin",
   "codemirror_mode": "text/x-kotlin",
   "nbconvert_exporter": ""
  }
 },
 "nbformat": 4,
 "nbformat_minor": 0
}
